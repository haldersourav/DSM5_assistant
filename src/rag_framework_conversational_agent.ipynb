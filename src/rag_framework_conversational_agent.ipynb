{
 "cells": [
  {
   "cell_type": "code",
   "execution_count": 1,
   "metadata": {},
   "outputs": [],
   "source": [
    "# #%pip install -qU langchain-unstructured\n",
    "# !pip install -qU \"langchain-chroma>=0.1.2\"\n",
    "# import numpy as np\n",
    "# import pandas as pd\n",
    "# import bs4\n",
    "import chromadb\n",
    "from langchain import hub\n",
    "from langchain_chroma import Chroma\n",
    "# from langchain_community.document_loaders import WebBaseLoader\n",
    "from uuid import uuid4\n",
    "from langchain_core.documents import Document\n",
    "from langchain_core.output_parsers import StrOutputParser\n",
    "from langchain_core.runnables import RunnablePassthrough\n",
    "from langchain_openai import OpenAIEmbeddings\n",
    "# from langchain_text_splitters import RecursiveCharacterTextSplitter\n",
    "import os\n",
    "import fitz\n",
    "import pickle\n",
    "from langchain_openai import ChatOpenAI\n",
    "import getpass\n",
    "from llama_index.core.node_parser import SentenceSplitter\n",
    "from llama_index.core import Document as llamaDoc\n",
    "from langchain.retrievers import BM25Retriever, EnsembleRetriever\n"
   ]
  },
  {
   "cell_type": "code",
   "execution_count": 2,
   "metadata": {},
   "outputs": [],
   "source": [
    "\n",
    "openai_key = getpass.getpass(\"Enter API key for OpenAI: \")\n",
    "os.environ[\"OPENAI_API_KEY\"] = openai_key"
   ]
  },
  {
   "cell_type": "code",
   "execution_count": 3,
   "metadata": {},
   "outputs": [],
   "source": [
    "embeddings = OpenAIEmbeddings(model=\"text-embedding-3-large\")\n",
    "llm = ChatOpenAI(model=\"gpt-4o-mini\")"
   ]
  },
  {
   "cell_type": "markdown",
   "metadata": {},
   "source": [
    "### Vector database"
   ]
  },
  {
   "cell_type": "code",
   "execution_count": 4,
   "metadata": {},
   "outputs": [],
   "source": [
    "def build_vector_db(persist_directory, collection_name, file_path, doc_chunks):\n",
    "    '''Build a vector database with ChromaDB'''\n",
    "\n",
    "    persistent_client = chromadb.PersistentClient()\n",
    "    collection = persistent_client.get_or_create_collection(collection_name)\n",
    "\n",
    "    vector_store = Chroma(\n",
    "        client=persistent_client,\n",
    "        collection_name=collection_name,\n",
    "        embedding_function=embeddings,\n",
    "        persist_directory=persist_directory\n",
    "    )\n",
    "\n",
    "    # Loading the pdf document\n",
    "    docs = fitz.open(file_path)\n",
    "\n",
    "    # Reading each page and splitting into chunks\n",
    "    documents = []\n",
    "\n",
    "    idx = 0\n",
    "    for i,page in enumerate(docs):\n",
    "        page_text = page.get_text()\n",
    "        page_number = i\n",
    "        \n",
    "        splitter = SentenceSplitter(chunk_size= 256, chunk_overlap=20)\n",
    "\n",
    "        nodes = splitter.get_nodes_from_documents(\n",
    "            [llamaDoc(text=page_text)], show_progress=False)\n",
    "\n",
    "        for j,node in enumerate(nodes):\n",
    "\n",
    "            idx += 1\n",
    "            documents.append(Document(\n",
    "                page_content=node.text,\n",
    "                metadata={\"source\": \"DSM5\",'page':page_number,'chunk':j},\n",
    "                id=idx,\n",
    "            ))\n",
    "\n",
    "    with open(doc_chunks, 'wb') as f: \n",
    "        pickle.dump(documents, f)\n"
   ]
  },
  {
   "cell_type": "code",
   "execution_count": 4,
   "metadata": {},
   "outputs": [],
   "source": [
    "persist_directory = '../data/chroma'\n",
    "collection_name = \"DSM5_collection\"\n",
    "file_path = '../data/DSM5.pdf'\n",
    "doc_chunks = '../data/DSM_chunks'\n",
    "\n",
    "## Uncomment the line below if you want to build the vector database\n",
    "# build_vector_db(persist_directory, collection_name, file_path, doc_chunks)"
   ]
  },
  {
   "cell_type": "code",
   "execution_count": 5,
   "metadata": {},
   "outputs": [],
   "source": [
    "vector_store = Chroma(persist_directory=persist_directory, embedding_function=embeddings)\n",
    "with open(doc_chunks, 'rb') as f: \n",
    "    documents = pickle.load(f) "
   ]
  },
  {
   "cell_type": "markdown",
   "metadata": {},
   "source": [
    "### Tool"
   ]
  },
  {
   "cell_type": "code",
   "execution_count": 6,
   "metadata": {},
   "outputs": [],
   "source": [
    "from langchain_core.tools import tool\n",
    "\n",
    "\n",
    "@tool(response_format=\"content_and_artifact\")\n",
    "def retrieve(query: str):\n",
    "    \"\"\"Retrieve information related to a query.\"\"\"\n",
    "\n",
    "    vector_retriever = vector_store.as_retriever(\n",
    "        search_type=\"similarity\",\n",
    "        search_kwargs={'k': 4})\n",
    "\n",
    "    keyword_retriever = BM25Retriever.from_documents(documents)\n",
    "    keyword_retriever.k =  3\n",
    "\n",
    "    retriever = EnsembleRetriever(\n",
    "                                retrievers=[vector_retriever,keyword_retriever],\n",
    "                                weights=[0.7, 0.3])\n",
    "\n",
    "\n",
    "    # retrieved_docs = vector_store.similarity_search(query, k=2)\n",
    "    retrieved_docs = retriever.invoke(query)\n",
    "    serialized = \"\\n\\n\".join(\n",
    "        (f\"Source: {doc.metadata}\\n\" f\"Content: {doc.page_content}\")\n",
    "        for doc in retrieved_docs\n",
    "    )\n",
    "    return serialized, retrieved_docs"
   ]
  },
  {
   "cell_type": "markdown",
   "metadata": {},
   "source": [
    "### Chat history management"
   ]
  },
  {
   "cell_type": "code",
   "execution_count": null,
   "metadata": {},
   "outputs": [],
   "source": [
    "from langgraph.checkpoint.memory import MemorySaver\n",
    "\n",
    "memory = MemorySaver()\n",
    "\n",
    "# Specify an ID for the thread\n",
    "config = {\"configurable\": {\"thread_id\": \"def123\"}}"
   ]
  },
  {
   "cell_type": "markdown",
   "metadata": {},
   "source": [
    "### ReAct agent (pre-built)"
   ]
  },
  {
   "cell_type": "code",
   "execution_count": 10,
   "metadata": {},
   "outputs": [],
   "source": [
    "from langgraph.prebuilt import create_react_agent\n",
    "\n",
    "agent_executor = create_react_agent(llm, [retrieve], checkpointer=memory)"
   ]
  },
  {
   "cell_type": "code",
   "execution_count": 12,
   "metadata": {},
   "outputs": [
    {
     "data": {
      "image/png": "[encoded data removed]",
      "text/plain": [
       "<IPython.core.display.Image object>"
      ]
     },
     "metadata": {},
     "output_type": "display_data"
    }
   ],
   "source": [
    "from IPython.display import Image, display\n",
    "\n",
    "display(Image(agent_executor.get_graph().draw_mermaid_png()))"
   ]
  },
  {
   "cell_type": "markdown",
   "metadata": {},
   "source": [
    "### Chat"
   ]
  },
  {
   "cell_type": "code",
   "execution_count": 13,
   "metadata": {},
   "outputs": [
    {
     "name": "stdout",
     "output_type": "stream",
     "text": [
      "================================\u001b[1m Human Message \u001b[0m=================================\n",
      "\n",
      "What is ADHD?\n",
      "==================================\u001b[1m Ai Message \u001b[0m==================================\n",
      "Tool Calls:\n",
      "  retrieve (call_SiC0ZsvALwd7u8rPpYdo4r49)\n",
      " Call ID: call_SiC0ZsvALwd7u8rPpYdo4r49\n",
      "  Args:\n",
      "    query: What is ADHD?\n",
      "=================================\u001b[1m Tool Message \u001b[0m=================================\n",
      "Name: retrieve\n",
      "\n",
      "Source: {'source': 'DSM5', 'page': 796, 'chunk': 2}\n",
      "Content: 3.\n",
      "What troubles you most about your prob-\n",
      "lem?\n",
      "CULTURAL PERCEPTIONS OF CAUSE, CONTEXT, AND SUPPORT\n",
      "CAUSES\n",
      "(Explanatory Model, Social Network, Older Adults)\n",
      "This question indicates the meaning of the condition \n",
      "for the individual, which may be relevant for clin-\n",
      "ical care.\n",
      "4.\n",
      "Why do you think this is happening to \n",
      "you? What do you think are the causes of \n",
      "your [PROBLEM]?\n",
      "Note that individuals may identify multiple causes, \n",
      "depending on the facet of the problem they are con-\n",
      "sidering.\n",
      "PROMPT FURTHER IF REQUIRED:\n",
      "Some people may explain their problem as \n",
      "the result of bad things that happen in their \n",
      "life, problems with others, a physical ill-\n",
      "ness, a spiritual reason, or many other \n",
      "causes.\n",
      "Focus on the views of members of the individual’s \n",
      "social network. These may be diverse and vary from \n",
      "the individual’s.\n",
      "5.\n",
      "What do others in your family, your \n",
      "friends, or others in your community think \n",
      "is causing your [PROBLEM]?\n",
      "\n",
      "Source: {'source': 'DSM5', 'page': 800, 'chunk': 0}\n",
      "Content: 756\n",
      "Cultural Formulation\n",
      "CULTURAL PERCEPTIONS OF CAUSE, CONTEXT, AND SUPPORT\n",
      "CAUSES\n",
      "This question indicates the meaning of the condition \n",
      "for the informant, which may be relevant for clini-\n",
      "cal care.\n",
      "Note that informants may identify multiple causes \n",
      "depending on the facet of the problem they are con-\n",
      "sidering.\n",
      "5.\n",
      "Why do you think this is happening to \n",
      "[INDIVIDUAL]? What do you think are the \n",
      "causes of his/her [PROBLEM]?\n",
      "PROMPT FURTHER IF REQUIRED:\n",
      "Some people may explain the problem as the \n",
      "result of bad things that happen in their life, \n",
      "problems with others, a physical illness, a \n",
      "spiritual reason, or many other causes.\n",
      "Focus on the views of members of the individual’s \n",
      "social network. These may be diverse and vary \n",
      "from the informant’s.\n",
      "6.\n",
      "What do others in [INDIVIDUAL’S] fam-\n",
      "ily, his/her friends, or others in the com-\n",
      "munity think is causing [INDIVIDUAL’S] \n",
      "[PROBLEM]?\n",
      "\n",
      "Source: {'source': 'DSM5', 'page': 854, 'chunk': 3}\n",
      "Content: Depressive Disorders\n",
      "To address concerns about potential overdiagnosis and overtreatment of bipolar disorder in\n",
      "children, a new diagnosis, disruptive mood dysregulation disorder, is included for children\n",
      "up to age 18 years who exhibit persistent irritability and frequent episodes of extreme behav-\n",
      "ioral dyscontrol. Premenstrual dysphoric disorder is now promoted from Appendix B, “Cri-\n",
      "teria Sets and Axes Provided for Further Study,” in DSM-IV to the main body of DSM-5. What\n",
      "was referred to as dysthymia in DSM-IV now falls under the category of persistent depressive\n",
      "disorder, which includes both chronic major depressive disorder and the previous dysthymic\n",
      "disorder. The coexistence within a major depressive episode of at least three manic symp-\n",
      "toms (insufficient to satisfy criteria for a manic episode) is now acknowledged by the specifier\n",
      "==================================\u001b[1m Ai Message \u001b[0m==================================\n",
      "\n",
      "ADHD, or Attention-Deficit/Hyperactivity Disorder, is a neurodevelopmental disorder characterized by persistent patterns of inattention, hyperactivity, and impulsivity that can interfere with functioning or development. It is often diagnosed in childhood but can continue into adulthood. The symptoms can lead to difficulties in various aspects of life, including academic performance, work, and relationships. \n",
      "\n",
      "The exact causes of ADHD are not fully understood, but a combination of genetic, environmental, and neurological factors is believed to contribute to its development. Treatment usually involves a combination of behavioral therapy, medication, and educational support.\n"
     ]
    }
   ],
   "source": [
    "# Conversation turn 1\n",
    "input_message = \"What is ADHD?\"\n",
    "\n",
    "for step in agent_executor.stream(\n",
    "    {\"messages\": [{\"role\": \"user\", \"content\": input_message}]},\n",
    "    stream_mode=\"values\",\n",
    "    config=config\n",
    "    ):\n",
    "    step[\"messages\"][-1].pretty_print()"
   ]
  },
  {
   "cell_type": "code",
   "execution_count": 14,
   "metadata": {},
   "outputs": [
    {
     "name": "stdout",
     "output_type": "stream",
     "text": [
      "================================\u001b[1m Human Message \u001b[0m=================================\n",
      "\n",
      "How can I diagnose it in one of my clients?\n",
      "==================================\u001b[1m Ai Message \u001b[0m==================================\n",
      "Tool Calls:\n",
      "  retrieve (call_TgcrOOPXBnrAPEj2Rmnk0zja)\n",
      " Call ID: call_TgcrOOPXBnrAPEj2Rmnk0zja\n",
      "  Args:\n",
      "    query: how to diagnose ADHD in clients\n",
      "=================================\u001b[1m Tool Message \u001b[0m=================================\n",
      "Name: retrieve\n",
      "\n",
      "Source: {'source': 'DSM5', 'page': 477, 'chunk': 2}\n",
      "Content: A “desire discrepancy,” in which a woman has lower desire for sexual activ-\n",
      "ity than her partner, is not sufficient to diagnose female sexual interest/arousal disorder.\n",
      "In order for the criteria for the disorder to be met, there must be absence or reduced fre-\n",
      "quency or intensity of at least three of six indicators (Criterion A) for a minimum duration\n",
      "of approximately 6 months (Criterion B). There may be different symptom profiles across\n",
      "women, as well as variability in how sexual interest and arousal are expressed. For exam-\n",
      "ple, in one woman, sexual interest/arousal disorder may be expressed as a lack of interest\n",
      "in sexual activity, an absence of erotic or sexual thoughts, and reluctance to initiate sexual\n",
      "activity and respond to a partner’s sexual invitations. In another woman, an inability to be-\n",
      "come sexually excited, to respond to sexual stimuli with sexual desire, and a correspond-\n",
      "\n",
      "Source: {'source': 'DSM5', 'page': 107, 'chunk': 0}\n",
      "Content: Attention-Deficit/Hyperactivity Disorder\n",
      "63\n",
      "Gender-Related Diagnostic Issues\n",
      "ADHD is more frequent in males than in females in the general population, with a ratio of\n",
      "approximately 2:1 in children and 1.6:1 in adults. Females are more likely than males to\n",
      "present primarily with inattentive features.\n",
      "Functional Consequences of \n",
      "Attention-Deficit/Hyperactivity Disorder\n",
      "ADHD is associated with reduced school performance and academic attainment, social re-\n",
      "jection, and, in adults, poorer occupational performance, attainment, attendance, and\n",
      "higher probability of unemployment as well as elevated interpersonal conflict. Children\n",
      "with ADHD are significantly more likely than their peers without ADHD to develop con-\n",
      "duct disorder in adolescence and antisocial personality disorder in adulthood, conse-\n",
      "quently increasing the likelihood for substance use disorders and incarceration. The risk of\n",
      "subsequent substance use disorders is elevated, especially when conduct disorder or an-\n",
      "tisocial personality disorder develops. Individuals with ADHD are more likely than peers\n",
      "to be injured. Traffic accidents and violations are more frequent in drivers with ADHD.\n",
      "There may be an elevated likelihood of obesity among individuals with ADHD.\n",
      "\n",
      "Source: {'source': 'DSM5', 'page': 108, 'chunk': 1}\n",
      "Content: The so-\n",
      "cial dysfunction and peer rejection seen in individuals with ADHD must be distinguished\n",
      "from the social disengagement, isolation, and indifference to facial and tonal communica-\n",
      "tion cues seen in individuals with autism spectrum disorder. Children with autism spec-\n",
      "trum disorder may display tantrums because of an inability to tolerate a change from their\n",
      "expected course of events. In contrast, children with ADHD may misbehave or have a tan-\n",
      "trum during a major transition because of impulsivity or poor self-control.\n",
      "Reactive attachment disorder.\n",
      "Children with reactive attachment disorder may show\n",
      "social disinhibition, but not the full ADHD symptom cluster, and display other features\n",
      "such as a lack of enduring relationships that are not characteristic of ADHD.\n",
      "Anxiety disorders.\n",
      "ADHD shares symptoms of inattention with anxiety disorders. Indi-\n",
      "viduals with ADHD are inattentive because of their attraction to external stimuli, new\n",
      "activities, or preoccupation with enjoyable activities. This is distinguished from the inat-\n",
      "tention due to worry and rumination seen in anxiety disorders. Restlessness might be seen\n",
      "in anxiety disorders. However, in ADHD, the symptom is not associated with worry and\n",
      "rumination.\n",
      "Depressive disorders.\n",
      "==================================\u001b[1m Ai Message \u001b[0m==================================\n",
      "\n",
      "To diagnose ADHD in a client, you can follow these general steps based on the DSM-5 criteria:\n",
      "\n",
      "1. **Clinical Interview**: Conduct a thorough clinical interview with the client and, if applicable, their parents or teachers. Gather detailed information about the client's behavioral history, including any symptoms of inattention and hyperactivity-impulsivity.\n",
      "\n",
      "2. **Symptom Criteria**: Assess whether the client meets the DSM-5 criteria for ADHD, which includes:\n",
      "   - **Inattention**: Difficulty sustaining attention, following through on tasks, organizing activities, and being easily distracted by extraneous stimuli.\n",
      "   - **Hyperactivity and Impulsivity**: Fidgeting, difficulty remaining seated, feelings of restlessness, talking excessively, interrupting others, and difficulty waiting for their turn.\n",
      "\n",
      "3. **Duration and Impact**: Confirm that the symptoms have persisted for at least six months and that they impact the client's social, academic, or occupational functioning.\n",
      "\n",
      "4. **Age of Onset**: Determine that several symptoms were present before the age of 12, as ADHD is a developmental disorder.\n",
      "\n",
      "5. **Rule Out Other Conditions**: Ensure that the symptoms are not better explained by another mental disorder, such as an anxiety disorder or autism spectrum disorder.\n",
      "\n",
      "6. **Standardized Rating Scales**: Use standardized assessment tools and rating scales designed for ADHD, which can help quantify the severity and frequency of symptoms.\n",
      "\n",
      "7. **Collaboration**: If possible, collaborate with other professionals (e.g., teachers, psychologists) to gather additional insights about the client's behavior in different settings.\n",
      "\n",
      "These steps will help you in the diagnostic process, but it is important to approach the assessment comprehensively and consider multiple perspectives.\n"
     ]
    }
   ],
   "source": [
    "# Conversation turn 2\n",
    "input_message = \"How can I diagnose it in one of my clients?\"\n",
    "\n",
    "for step in agent_executor.stream(\n",
    "    {\"messages\": [{\"role\": \"user\", \"content\": input_message}]},\n",
    "    stream_mode=\"values\",\n",
    "    config=config,\n",
    "    ):\n",
    "    step[\"messages\"][-1].pretty_print()"
   ]
  }
 ],
 "metadata": {
  "kernelspec": {
   "display_name": "llm_env",
   "language": "python",
   "name": "python3"
  },
  "language_info": {
   "codemirror_mode": {
    "name": "ipython",
    "version": 3
   },
   "file_extension": ".py",
   "mimetype": "text/x-python",
   "name": "python",
   "nbconvert_exporter": "python",
   "pygments_lexer": "ipython3",
   "version": "3.12.3"
  }
 },
 "nbformat": 4,
 "nbformat_minor": 2
}
