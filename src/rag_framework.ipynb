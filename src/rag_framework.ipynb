{
 "cells": [
  {
   "cell_type": "code",
   "execution_count": 1,
   "metadata": {},
   "outputs": [],
   "source": [
    "# #%pip install -qU langchain-unstructured\n",
    "# !pip install -qU \"langchain-chroma>=0.1.2\"\n",
    "# import numpy as np\n",
    "# import pandas as pd\n",
    "# import bs4\n",
    "import chromadb\n",
    "from langchain import hub\n",
    "from langchain_chroma import Chroma\n",
    "# from langchain_community.document_loaders import WebBaseLoader\n",
    "from uuid import uuid4\n",
    "from langchain_core.documents import Document\n",
    "from langchain_core.output_parsers import StrOutputParser\n",
    "from langchain_core.runnables import RunnablePassthrough\n",
    "from langchain_openai import OpenAIEmbeddings\n",
    "# from langchain_text_splitters import RecursiveCharacterTextSplitter\n",
    "import os\n",
    "import fitz\n",
    "import pickle\n",
    "from langchain_openai import ChatOpenAI\n",
    "import getpass\n",
    "from llama_index.core.node_parser import SentenceSplitter\n",
    "from llama_index.core import Document as llamaDoc\n",
    "from langchain.retrievers import BM25Retriever, EnsembleRetriever\n"
   ]
  },
  {
   "cell_type": "code",
   "execution_count": 2,
   "metadata": {},
   "outputs": [],
   "source": [
    "\n",
    "openai_key = getpass.getpass(\"Enter API key for OpenAI: \")\n",
    "os.environ[\"OPENAI_API_KEY\"] = openai_key"
   ]
  },
  {
   "cell_type": "code",
   "execution_count": 3,
   "metadata": {},
   "outputs": [],
   "source": [
    "embeddings = OpenAIEmbeddings(model=\"text-embedding-3-large\")"
   ]
  },
  {
   "cell_type": "code",
   "execution_count": 5,
   "metadata": {},
   "outputs": [],
   "source": [
    "def build_vector_db(persist_directory, collection_name, file_path, doc_chunks):\n",
    "    '''Build a vector database with ChromaDB'''\n",
    "\n",
    "    persistent_client = chromadb.PersistentClient()\n",
    "    collection = persistent_client.get_or_create_collection(collection_name)\n",
    "\n",
    "    vector_store = Chroma(\n",
    "        client=persistent_client,\n",
    "        collection_name=collection_name,\n",
    "        embedding_function=embeddings,\n",
    "        persist_directory=persist_directory\n",
    "    )\n",
    "\n",
    "    # Loading the pdf document\n",
    "    docs = fitz.open(file_path)\n",
    "\n",
    "    # Reading each page and splitting into chunks\n",
    "    documents = []\n",
    "\n",
    "    idx = 0\n",
    "    for i,page in enumerate(docs):\n",
    "        page_text = page.get_text()\n",
    "        page_number = i\n",
    "        \n",
    "        splitter = SentenceSplitter(chunk_size= 256, chunk_overlap=20)\n",
    "\n",
    "        nodes = splitter.get_nodes_from_documents(\n",
    "            [llamaDoc(text=page_text)], show_progress=False)\n",
    "\n",
    "        for j,node in enumerate(nodes):\n",
    "\n",
    "            idx += 1\n",
    "            documents.append(Document(\n",
    "                page_content=node.text,\n",
    "                metadata={\"source\": \"DSM5\",'page':page_number,'chunk':j},\n",
    "                id=idx,\n",
    "            ))\n",
    "\n",
    "    with open(doc_chunks, 'wb') as f: \n",
    "        pickle.dump(documents, f)\n"
   ]
  },
  {
   "cell_type": "code",
   "execution_count": 6,
   "metadata": {},
   "outputs": [],
   "source": [
    "persist_directory = '../data/chroma'\n",
    "collection_name = \"DSM5_collection\"\n",
    "file_path = '../data/DSM5.pdf'\n",
    "doc_chunks = '../data/DSM_chunks'\n",
    "build_vector_db(persist_directory, collection_name, file_path, doc_chunks)"
   ]
  },
  {
   "cell_type": "code",
   "execution_count": 7,
   "metadata": {},
   "outputs": [],
   "source": [
    "vector_store = Chroma(persist_directory=persist_directory, embedding_function=embeddings)\n",
    "with open(doc_chunks, 'rb') as f: \n",
    "    documents = pickle.load(f) "
   ]
  },
  {
   "cell_type": "code",
   "execution_count": 8,
   "metadata": {},
   "outputs": [
    {
     "name": "stderr",
     "output_type": "stream",
     "text": [
      "c:\\Users\\halde\\anaconda3\\envs\\llm_env\\Lib\\site-packages\\langsmith\\client.py:312: LangSmithMissingAPIKeyWarning: API key must be provided when using hosted LangSmith API\n",
      "  warnings.warn(\n",
      "c:\\Users\\halde\\anaconda3\\envs\\llm_env\\Lib\\site-packages\\langsmith\\client.py:5519: LangChainBetaWarning: The function `loads` is in beta. It is actively being worked on, so the API may change.\n",
      "  prompt = loads(json.dumps(prompt_object.manifest))\n"
     ]
    }
   ],
   "source": [
    "# Retrieve and generate using the relevant snippets of the blog.\n",
    "vector_retriever = vector_store.as_retriever(\n",
    "    search_type=\"similarity\",\n",
    "    search_kwargs={'k': 4})\n",
    "\n",
    "keyword_retriever = BM25Retriever.from_documents(documents)\n",
    "keyword_retriever.k =  3\n",
    "\n",
    "retriever = EnsembleRetriever(\n",
    "                            retrievers=[vector_retriever,keyword_retriever],\n",
    "                            weights=[0.7, 0.3])\n",
    "\n",
    "\n",
    "prompt = hub.pull(\"rlm/rag-prompt\")\n",
    "\n",
    "llm = ChatOpenAI(model=\"gpt-4o-mini\")\n",
    "\n",
    "def format_docs(docs):\n",
    "    return \"\\n\\n\".join(doc.page_content for doc in docs)\n",
    "\n",
    "\n",
    "rag_chain = (\n",
    "    {\"context\": retriever | format_docs, \"question\": RunnablePassthrough()}\n",
    "    | prompt\n",
    "    | llm\n",
    "    | StrOutputParser()\n",
    ")\n",
    "\n"
   ]
  },
  {
   "cell_type": "code",
   "execution_count": 9,
   "metadata": {},
   "outputs": [],
   "source": [
    "question = 'What is the difference between bipolar disorder 1 and 2?'"
   ]
  },
  {
   "cell_type": "code",
   "execution_count": 10,
   "metadata": {},
   "outputs": [
    {
     "name": "stdout",
     "output_type": "stream",
     "text": [
      "Bipolar disorder 1 is characterized by at least one manic episode, which may be preceded or followed by hypomanic or major depressive episodes. In contrast, bipolar disorder 2 involves at least one major depressive episode and at least one hypomanic episode, but does not include full-blown manic episodes. The key difference lies in the severity and presence of manic symptoms.\n"
     ]
    }
   ],
   "source": [
    "# question = \"What is ADHD?\"\n",
    "response = rag_chain.invoke(question)\n",
    "print(response)"
   ]
  },
  {
   "cell_type": "code",
   "execution_count": null,
   "metadata": {},
   "outputs": [],
   "source": []
  },
  {
   "cell_type": "code",
   "execution_count": null,
   "metadata": {},
   "outputs": [],
   "source": []
  },
  {
   "cell_type": "code",
   "execution_count": null,
   "metadata": {},
   "outputs": [],
   "source": []
  },
  {
   "cell_type": "code",
   "execution_count": null,
   "metadata": {},
   "outputs": [],
   "source": []
  },
  {
   "cell_type": "code",
   "execution_count": null,
   "metadata": {},
   "outputs": [],
   "source": []
  },
  {
   "cell_type": "code",
   "execution_count": 11,
   "metadata": {},
   "outputs": [
    {
     "name": "stderr",
     "output_type": "stream",
     "text": [
      "INFO: Failed to extract font properties from /usr/share/fonts/google-noto-sans-mono-cjk-vf-fonts/NotoSansMonoCJK-VF.ttc: In FT2Font: Can not load face (SFNT font table missing; error code 0x8e)\n",
      "INFO: Failed to extract font properties from /usr/share/fonts/google-noto-sans-cjk-vf-fonts/NotoSansCJK-VF.ttc: In FT2Font: Can not load face (SFNT font table missing; error code 0x8e)\n",
      "INFO: Failed to extract font properties from /usr/share/fonts/google-noto-color-emoji-fonts/NotoColorEmoji.ttf: In FT2Font: Can not load face (unknown file format; error code 0x2)\n",
      "INFO: Failed to extract font properties from /usr/share/fonts/google-noto-serif-cjk-vf-fonts/NotoSerifCJK-VF.ttc: In FT2Font: Can not load face (SFNT font table missing; error code 0x8e)\n",
      "INFO: Failed to extract font properties from /usr/share/fonts/abattis-cantarell-vf-fonts/Cantarell-VF.otf: In FT2Font: Can not load face (SFNT font table missing; error code 0x8e)\n",
      "INFO: generated new fontManager\n"
     ]
    }
   ],
   "source": [
    "import fitz\n",
    "import matplotlib.patches as patches\n",
    "import matplotlib.pyplot as plt\n",
    "from PIL import Image\n",
    "\n",
    "\n",
    "def plot_pdf_with_boxes(pdf_page, segments):\n",
    "    pix = pdf_page.get_pixmap()\n",
    "    pil_image = Image.frombytes(\"RGB\", [pix.width, pix.height], pix.samples)\n",
    "\n",
    "    fig, ax = plt.subplots(1, figsize=(10, 10))\n",
    "    ax.imshow(pil_image)\n",
    "    categories = set()\n",
    "    category_to_color = {\n",
    "        \"Title\": \"orchid\",\n",
    "        \"Image\": \"forestgreen\",\n",
    "        \"Table\": \"tomato\",\n",
    "    }\n",
    "    for segment in segments:\n",
    "        points = segment[\"coordinates\"][\"points\"]\n",
    "        layout_width = segment[\"coordinates\"][\"layout_width\"]\n",
    "        layout_height = segment[\"coordinates\"][\"layout_height\"]\n",
    "        scaled_points = [\n",
    "            (x * pix.width / layout_width, y * pix.height / layout_height)\n",
    "            for x, y in points\n",
    "        ]\n",
    "        box_color = category_to_color.get(segment[\"category\"], \"deepskyblue\")\n",
    "        categories.add(segment[\"category\"])\n",
    "        rect = patches.Polygon(\n",
    "            scaled_points, linewidth=1, edgecolor=box_color, facecolor=\"none\"\n",
    "        )\n",
    "        ax.add_patch(rect)\n",
    "\n",
    "    # Make legend\n",
    "    legend_handles = [patches.Patch(color=\"deepskyblue\", label=\"Text\")]\n",
    "    for category in [\"Title\", \"Image\", \"Table\"]:\n",
    "        if category in categories:\n",
    "            legend_handles.append(\n",
    "                patches.Patch(color=category_to_color[category], label=category)\n",
    "            )\n",
    "    ax.axis(\"off\")\n",
    "    ax.legend(handles=legend_handles, loc=\"upper right\")\n",
    "    plt.tight_layout()\n",
    "    plt.show()\n",
    "\n",
    "\n",
    "def render_page(doc_list: list, page_number: int, print_text=True) -> None:\n",
    "    pdf_page = fitz.open(file_path).load_page(page_number - 1)\n",
    "    page_docs = [\n",
    "        doc for doc in doc_list if doc.metadata.get(\"page_number\") == page_number\n",
    "    ]\n",
    "    segments = [doc.metadata for doc in page_docs]\n",
    "    plot_pdf_with_boxes(pdf_page, segments)\n",
    "    if print_text:\n",
    "        for doc in page_docs:\n",
    "            print(f\"{doc.page_content}\\n\")"
   ]
  },
  {
   "cell_type": "code",
   "execution_count": 10,
   "metadata": {},
   "outputs": [],
   "source": [
    "!pip install -qU matplotlib PyMuPDF pillow"
   ]
  },
  {
   "cell_type": "code",
   "execution_count": 30,
   "metadata": {},
   "outputs": [],
   "source": []
  },
  {
   "cell_type": "markdown",
   "metadata": {},
   "source": [
    "# Determining ideal chunk size"
   ]
  },
  {
   "cell_type": "code",
   "execution_count": 16,
   "metadata": {},
   "outputs": [],
   "source": [
    "\n",
    "    "
   ]
  },
  {
   "cell_type": "code",
   "execution_count": 18,
   "metadata": {},
   "outputs": [
    {
     "name": "stdout",
     "output_type": "stream",
     "text": [
      "38\n",
      "Neurodevelopmental Disorders\n",
      "factors (e.g., sensory impairment, severe problem behavior), the individual may be diag-\n",
      "nosed with unspecified intellectual disability. Adaptive functioning may be difficult to\n",
      "assess in a controlled setting (e.g., prisons, detention centers); if possible, corroborative in-\n",
      "formation reflecting functioning outside those settings should be obtained.\n",
      "Criterion B is met when at least one domain of adaptive functioning—conceptual, so-\n",
      "cial, or practical—is sufficiently impaired that ongoing support is needed in order for the\n",
      "person to perform adequately in one or more life settings at school, at work, at home, or in\n",
      "the community. To meet diagnostic criteria for intellectual disability, the deficits in adap-\n",
      "tive functioning must be directly related to the intellectual impairments described in Cri-\n",
      "terion A. Criterion C, onset during the developmental period, refers to recognition that\n",
      "intellectual and adaptive deficits are present during childhood or adolescence.\n",
      "Associated Features Supporting Diagnosis\n",
      "Intellectual disability is a heterogeneous condition with multiple causes. There may be\n",
      "associated difficulties with social judgment; assessment of risk; self-management of behav-\n",
      "ior, emotions, or interpersonal relationships; or motivation in school or work environments.\n",
      "Lack of communication skills may predispose to disruptive and aggressive behaviors. Gull-\n",
      "ibility is often a feature, involving naiveté in social situations and a tendency for being easily\n",
      "led by others. Gullibility and lack of awareness of risk may result in exploitation by others\n",
      "and possible victimization, fraud, unintentional criminal involvement, false confessions,\n",
      "and risk for physical and sexual abuse. These associated features can be important in crim-\n",
      "inal cases, including Atkins-type hearings involving the death penalty.\n",
      "Individuals with a diagnosis of intellectual disability with co-occurring mental disor-\n",
      "ders are at risk for suicide. They think about suicide, make suicide attempts, and may die\n",
      "from them. Thus, screening for suicidal thoughts is essential in the assessment process. Be-\n",
      "cause of a lack of awareness of risk and danger, accidental injury rates may be increased.\n",
      "Prevalence\n",
      "Intellectual disability has an overall general population prevalence of approximately 1%,\n",
      "and prevalence rates vary by age. Prevalence for severe intellectual disability is approxi-\n",
      "mately 6 per 1,000.\n",
      "Development and Course\n",
      "Onset of intellectual disability is in the developmental period. The age and characteristic\n",
      "features at onset depend on the etiology and severity of brain dysfunction. Delayed motor,\n",
      "language, and social milestones may be identifiable within the first 2 years of life among\n",
      "those with more severe intellectual disability, while mild levels may not be identifiable un-\n",
      "til school age when difficulty with academic learning becomes apparent. All criteria (in-\n",
      "cluding Criterion C) must be fulfilled by history or current presentation. Some children\n",
      "under age 5 years whose presentation will eventually meet criteria for intellectual disabil-\n",
      "ity have deficits that meet criteria for global developmental delay.\n",
      "When intellectual disability is associated with a genetic syndrome, there may be a char-\n",
      "acteristic physical appearance (as in, e.g., Down syndrome). Some syndromes have a\n",
      "behavioral phenotype, which refers to specific behaviors that are characteristic of particular\n",
      "genetic disorder (e.g., Lesch-Nyhan syndrome). In acquired forms, the onset may be\n",
      "abrupt following an illness such as meningitis or encephalitis or head trauma occurring\n",
      "during the developmental period. When intellectual disability results from a loss of pre-\n",
      "viously acquired cognitive skills, as in severe traumatic brain injury, the diagnoses of in-\n",
      "tellectual disability and of a neurocognitive disorder may both be assigned.\n",
      "Although intellectual disability is generally nonprogressive, in certain genetic disor-\n",
      "ders (e.g., Rett syndrome) there are periods of worsening, followed by stabilization, and in\n",
      "\n"
     ]
    }
   ],
   "source": [
    "print(text)"
   ]
  },
  {
   "cell_type": "code",
   "execution_count": 31,
   "metadata": {},
   "outputs": [
    {
     "data": {
      "text/plain": [
       "{'format': 'PDF 1.6',\n",
       " 'title': '',\n",
       " 'author': '',\n",
       " 'subject': '',\n",
       " 'keywords': '',\n",
       " 'creator': '',\n",
       " 'producer': '',\n",
       " 'creationDate': '',\n",
       " 'modDate': '',\n",
       " 'trapped': '',\n",
       " 'encryption': None}"
      ]
     },
     "execution_count": 31,
     "metadata": {},
     "output_type": "execute_result"
    }
   ],
   "source": [
    "docs.metadata"
   ]
  },
  {
   "cell_type": "code",
   "execution_count": 32,
   "metadata": {},
   "outputs": [
    {
     "data": {
      "text/plain": [
       "''"
      ]
     },
     "execution_count": 32,
     "metadata": {},
     "output_type": "execute_result"
    }
   ],
   "source": [
    "docs.metadata['title']"
   ]
  },
  {
   "cell_type": "code",
   "execution_count": 33,
   "metadata": {},
   "outputs": [
    {
     "data": {
      "text/plain": [
       "992"
      ]
     },
     "execution_count": 33,
     "metadata": {},
     "output_type": "execute_result"
    }
   ],
   "source": [
    "len(docs)"
   ]
  },
  {
   "cell_type": "code",
   "execution_count": 28,
   "metadata": {},
   "outputs": [
    {
     "data": {
      "text/plain": [
       "[]"
      ]
     },
     "execution_count": 28,
     "metadata": {},
     "output_type": "execute_result"
    }
   ],
   "source": [
    "docs.get_toc()"
   ]
  },
  {
   "cell_type": "code",
   "execution_count": 34,
   "metadata": {},
   "outputs": [
    {
     "data": {
      "text/plain": [
       "page 0 of DSM5_chatbot/data/DSM5.pdf"
      ]
     },
     "execution_count": 34,
     "metadata": {},
     "output_type": "execute_result"
    }
   ],
   "source": [
    "docs[0]"
   ]
  },
  {
   "cell_type": "code",
   "execution_count": 38,
   "metadata": {},
   "outputs": [],
   "source": [
    "p = docs.load_page(100)"
   ]
  },
  {
   "cell_type": "code",
   "execution_count": 41,
   "metadata": {},
   "outputs": [
    {
     "data": {
      "text/plain": [
       "'56\\nNeurodevelopmental Disorders\\nsecond birthday (see also Rett syndrome in the section “Differential Diagnosis” for this\\ndisorder).\\nFirst symptoms of autism spectrum disorder frequently involve delayed language de-\\nvelopment, often accompanied by lack of social interest or unusual social interactions (e.g.,\\npulling individuals by the hand without any attempt to look at them), odd play patterns\\n(e.g., carrying toys around but never playing with them), and unusual communication\\npatterns (e.g., knowing the alphabet but not responding to own name). Deafness may be\\nsuspected but is typically ruled out. During the second year, odd and repetitive behaviors\\nand the absence of typical play become more apparent. Since many typically developing\\nyoung children have strong preferences and enjoy repetition (e.g., eating the same foods,\\nwatching the same video multiple times), distinguishing restricted and repetitive behav-\\niors that are diagnostic of autism spectrum disorder can be difficult in preschoolers. The\\nclinical distinction is based on the type, frequency, and intensity of the behavior (e.g., a\\nchild who daily lines up objects for hours and is very distressed if any item is moved).\\nAutism spectrum disorder is not a degenerative disorder, and it is typical for learning\\nand compensation to continue throughout life. Symptoms are often most marked in early\\nchildhood and early school years, with developmental gains typical in later childhood in\\nat least some areas (e.g., increased interest in social interaction). A small proportion of in-\\ndividuals deteriorate behaviorally during adolescence, whereas most others improve.\\nOnly a minority of individuals with autism spectrum disorder live and work indepen-\\ndently in adulthood; those who do tend to have superior language and intellectual abilities\\nand are able to find a niche that matches their special interests and skills. In general, indi-\\nviduals with lower levels of impairment may be better able to function independently.\\nHowever, even these individuals may remain socially naive and vulnerable, have difficul-\\nties organizing practical demands without aid, and are prone to anxiety and depression.\\nMany adults report using compensation strategies and coping mechanisms to mask their\\ndifficulties in public but suffer from the stress and effort of maintaining a socially accept-\\nable facade. Scarcely anything is known about old age in autism spectrum disorder.\\nSome individuals come for first diagnosis in adulthood, perhaps prompted by the diagno-\\nsis of autism in a child in the family or a breakdown of relations at work or home. Obtaining de-\\ntailed developmental history in such cases may be difficult, and it is important to consider self-\\nreported difficulties. Where clinical observation suggests criteria are currently met, autism\\nspectrum disorder may be diagnosed, provided there is no evidence of good social and com-\\nmunication skills in childhood. For example, the report (by parents or another relative) that the\\nindividual had ordinary and sustained reciprocal friendships and good nonverbal communi-\\ncation skills throughout childhood would rule out a diagnosis of autism spectrum disorder;\\nhowever, the absence of developmental information in itself should not do so.\\nManifestations of the social and communication impairments and restricted/repeti-\\ntive behaviors that define autism spectrum disorder are clear in the developmental period.\\nIn later life, intervention or compensation, as well as current supports, may mask these dif-\\nficulties in at least some contexts. However, symptoms remain sufficient to cause current\\nimpairment in social, occupational, or other important areas of functioning.\\nRisk and Prognostic Factors\\nThe best established prognostic factors for individual outcome within autism spectrum\\ndisorder are presence or absence of associated intellectual disability and language impair-\\nment (e.g., functional language by age 5 years is a good prognostic sign) and additional\\nmental health problems. Epilepsy, as a comorbid diagnosis, is associated with greater in-\\ntellectual disability and lower verbal ability.\\nEnvironmental.\\nA variety of nonspecific risk factors, such as advanced parental age, low\\nbirth weight, or fetal exposure to valproate, may contribute to risk of autism spectrum dis-\\norder.\\n'"
      ]
     },
     "execution_count": 41,
     "metadata": {},
     "output_type": "execute_result"
    }
   ],
   "source": [
    "p.get_text()"
   ]
  },
  {
   "cell_type": "code",
   "execution_count": 48,
   "metadata": {},
   "outputs": [],
   "source": [
    "\n",
    "    "
   ]
  },
  {
   "cell_type": "code",
   "execution_count": 44,
   "metadata": {},
   "outputs": [
    {
     "data": {
      "text/plain": [
       "0"
      ]
     },
     "execution_count": 44,
     "metadata": {},
     "output_type": "execute_result"
    }
   ],
   "source": [
    "i"
   ]
  },
  {
   "cell_type": "code",
   "execution_count": 49,
   "metadata": {},
   "outputs": [
    {
     "data": {
      "text/plain": [
       "'56\\nNeurodevelopmental Disorders\\nsecond birthday (see also Rett syndrome in the section “Differential Diagnosis” for this\\ndisorder).\\nFirst symptoms of autism spectrum disorder frequently involve delayed language de-\\nvelopment, often accompanied by lack of social interest or unusual social interactions (e.g.,\\npulling individuals by the hand without any attempt to look at them), odd play patterns\\n(e.g., carrying toys around but never playing with them), and unusual communication\\npatterns (e.g., knowing the alphabet but not responding to own name). Deafness may be\\nsuspected but is typically ruled out. During the second year, odd and repetitive behaviors\\nand the absence of typical play become more apparent. Since many typically developing\\nyoung children have strong preferences and enjoy repetition (e.g., eating the same foods,\\nwatching the same video multiple times), distinguishing restricted and repetitive behav-\\niors that are diagnostic of autism spectrum disorder can be difficult in preschoolers. The\\nclinical distinction is based on the type, frequency, and intensity of the behavior (e.g., a\\nchild who daily lines up objects for hours and is very distressed if any item is moved).\\nAutism spectrum disorder is not a degenerative disorder, and it is typical for learning\\nand compensation to continue throughout life. Symptoms are often most marked in early\\nchildhood and early school years, with developmental gains typical in later childhood in\\nat least some areas (e.g., increased interest in social interaction). A small proportion of in-\\ndividuals deteriorate behaviorally during adolescence, whereas most others improve.\\nOnly a minority of individuals with autism spectrum disorder live and work indepen-\\ndently in adulthood; those who do tend to have superior language and intellectual abilities\\nand are able to find a niche that matches their special interests and skills. In general, indi-\\nviduals with lower levels of impairment may be better able to function independently.\\nHowever, even these individuals may remain socially naive and vulnerable, have difficul-\\nties organizing practical demands without aid, and are prone to anxiety and depression.\\nMany adults report using compensation strategies and coping mechanisms to mask their\\ndifficulties in public but suffer from the stress and effort of maintaining a socially accept-\\nable facade. Scarcely anything is known about old age in autism spectrum disorder.\\nSome individuals come for first diagnosis in adulthood, perhaps prompted by the diagno-\\nsis of autism in a child in the family or a breakdown of relations at work or home. Obtaining de-\\ntailed developmental history in such cases may be difficult, and it is important to consider self-\\nreported difficulties. Where clinical observation suggests criteria are currently met, autism\\nspectrum disorder may be diagnosed, provided there is no evidence of good social and com-\\nmunication skills in childhood. For example, the report (by parents or another relative) that the\\nindividual had ordinary and sustained reciprocal friendships and good nonverbal communi-\\ncation skills throughout childhood would rule out a diagnosis of autism spectrum disorder;\\nhowever, the absence of developmental information in itself should not do so.\\nManifestations of the social and communication impairments and restricted/repeti-\\ntive behaviors that define autism spectrum disorder are clear in the developmental period.\\nIn later life, intervention or compensation, as well as current supports, may mask these dif-\\nficulties in at least some contexts. However, symptoms remain sufficient to cause current\\nimpairment in social, occupational, or other important areas of functioning.\\nRisk and Prognostic Factors\\nThe best established prognostic factors for individual outcome within autism spectrum\\ndisorder are presence or absence of associated intellectual disability and language impair-\\nment (e.g., functional language by age 5 years is a good prognostic sign) and additional\\nmental health problems. Epilepsy, as a comorbid diagnosis, is associated with greater in-\\ntellectual disability and lower verbal ability.\\nEnvironmental.\\nA variety of nonspecific risk factors, such as advanced parental age, low\\nbirth weight, or fetal exposure to valproate, may contribute to risk of autism spectrum dis-\\norder.\\n'"
      ]
     },
     "execution_count": 49,
     "metadata": {},
     "output_type": "execute_result"
    }
   ],
   "source": [
    "text"
   ]
  },
  {
   "cell_type": "code",
   "execution_count": 47,
   "metadata": {},
   "outputs": [
    {
     "data": {
      "text/plain": [
       "{'format': 'PDF 1.6',\n",
       " 'title': '',\n",
       " 'author': '',\n",
       " 'subject': '',\n",
       " 'keywords': '',\n",
       " 'creator': '',\n",
       " 'producer': '',\n",
       " 'creationDate': '',\n",
       " 'modDate': '',\n",
       " 'trapped': '',\n",
       " 'encryption': None}"
      ]
     },
     "execution_count": 47,
     "metadata": {},
     "output_type": "execute_result"
    }
   ],
   "source": [
    "doc"
   ]
  },
  {
   "cell_type": "code",
   "execution_count": null,
   "metadata": {},
   "outputs": [],
   "source": []
  }
 ],
 "metadata": {
  "kernelspec": {
   "display_name": "llm_env",
   "language": "python",
   "name": "python3"
  },
  "language_info": {
   "codemirror_mode": {
    "name": "ipython",
    "version": 3
   },
   "file_extension": ".py",
   "mimetype": "text/x-python",
   "name": "python",
   "nbconvert_exporter": "python",
   "pygments_lexer": "ipython3",
   "version": "3.12.3"
  }
 },
 "nbformat": 4,
 "nbformat_minor": 2
}
